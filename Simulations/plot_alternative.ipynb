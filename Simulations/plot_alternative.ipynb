{
 "cells": [
  {
   "cell_type": "code",
   "execution_count": null,
   "metadata": {},
   "outputs": [],
   "source": [
    "%load_ext autoreload\n",
    "%autoreload 2\n",
    "\n",
    "import numpy as np\n",
    "import pandas as pd\n",
    "from test_utils import *\n",
    "import pickle\n",
    "from scipy.stats import chi2\n",
    "\n",
    "import matplotlib.pyplot as plt\n",
    "import seaborn as sns\n",
    "\n",
    "path = '/Users/bwq666/Documents/GitHub/nonparametric-cli-test/Plots'; chdir(path)\n",
    "\n",
    "from matplotlib import rc\n",
    "rc('font',**{'family':'serif','serif':['Palatino']})\n",
    "rc('text', usetex=True)\n",
    "rc('text.latex', preamble=r'\\usepackage{amsmath}')\n",
    "sns.set_theme(style='whitegrid',palette='pastel')"
   ]
  },
  {
   "cell_type": "code",
   "execution_count": null,
   "metadata": {},
   "outputs": [],
   "source": [
    "#file = '/Users/bwq666/Documents/GitHub/nonparametric-cli-test/sim_data/same_kernels.pkl'\n",
    "file = '/Users/bwq666/Documents/GitHub/nonparametric-cli-test/sim_data/varying_kernels.pkl'\n",
    "#file = '/Users/bwq666/Documents/GitHub/nonparametric-cli-test/sim_data/varying_quantiles3.pkl'\n",
    "if 1:\n",
    "    with open(file,'rb') as f:\n",
    "        sim_data = pickle.load(f)\n",
    "\n",
    "\n",
    "other_test = ('gam_double' in sim_data.columns)"
   ]
  },
  {
   "cell_type": "code",
   "execution_count": null,
   "metadata": {},
   "outputs": [],
   "source": [
    "p_sup = lambda x: 1-BM_supnorm_cdf(np.sqrt(x[2])*x[0]/np.sqrt(x[1])) # x = (statistic, variance, samplesize)\n",
    "p_end = lambda x: 1-chi2.cdf((np.sqrt(x[2])*x[0]/np.sqrt(x[1]))**2,1)\n",
    "sim_data['p_double'] = sim_data[['T_double','sigma_double','n_sample']].apply(p_sup,axis=1)\n",
    "if other_test:\n",
    "    sim_data['p_end'] = sim_data[['gam_double','sigma_double','n_sample']].apply(p_end,axis=1)"
   ]
  },
  {
   "cell_type": "code",
   "execution_count": null,
   "metadata": {},
   "outputs": [],
   "source": [
    "df_pvals = pd.melt(\n",
    "    sim_data, \n",
    "    id_vars=['n_sample','alt_param','beta1','kernel_X','kernel_Y']+other_test*['n_quant'],\n",
    "    value_vars=['p_double'] + other_test*['p_end']\n",
    ")\n",
    "\n",
    "if len(df_pvals['beta1'].unique()) >1  and 0:\n",
    "    parameter_name = r'$(\\beta,k)$'\n",
    "    df_pvals[parameter_name] = list(zip(df_pvals.beta1.astype(int),df_pvals.kernel_X))\n",
    "else:\n",
    "    parameter_name = r'dependency'\n",
    "    df_pvals[parameter_name] = df_pvals.alt_param"
   ]
  },
  {
   "cell_type": "code",
   "execution_count": null,
   "metadata": {},
   "outputs": [],
   "source": [
    "df = df_pvals.rename(columns={\"n_sample\": r\"$n$\"})\n",
    "#df = df[(df['alt_param']==0) & (df['variable']=='p_double')]\n",
    "df = df[(df['alt_param']==0)]"
   ]
  },
  {
   "cell_type": "code",
   "execution_count": null,
   "metadata": {},
   "outputs": [],
   "source": [
    "df_rename = df.rename(columns={\n",
    "    'n_sample':r'sample size $n$',\n",
    "    'beta1':r'$\\beta$',\n",
    "    'kernel_X':r'kernel $\\rho_X$',\n",
    "    'kernel_Y':r'kernel $\\rho_Y$',\n",
    "})"
   ]
  },
  {
   "cell_type": "code",
   "execution_count": null,
   "metadata": {},
   "outputs": [],
   "source": [
    "def ecdf(data, array: bool=True):\n",
    "    n = len(data)\n",
    "    x = np.sort(data)\n",
    "    y = np.arange(1, n+1) / n\n",
    "    if not array:\n",
    "        return pd.DataFrame({'x': x, 'y': y-x})\n",
    "    else:\n",
    "        return x, y-x\n",
    "\n",
    "def ecdfplot(*data,**kwargs):\n",
    "    data=kwargs['data']\n",
    "    if other_test:\n",
    "        dfg = data.groupby([r\"$n$\",r'kernel $\\rho_X$'])['value'].apply(ecdf, False).reset_index()\n",
    "        sns.lineplot(data=dfg, x='x', y='y',hue=r\"$n$\", style=r'kernel $\\rho_X$', palette='Reds',legend=True)\n",
    "    else:\n",
    "        dfg = data.groupby([r'$\\beta$',r\"$n$\"])['value'].apply(ecdf, False).reset_index()\n",
    "        sns.lineplot(data=dfg, x='x', y='y', hue=r\"$n$\", style=r'$\\beta$',palette='Reds',legend=True,dashes=[[1,1],[3,3]])\n"
   ]
  },
  {
   "cell_type": "code",
   "execution_count": null,
   "metadata": {},
   "outputs": [],
   "source": [
    "sns.set_theme(style='whitegrid',rc={'figure.figsize':(4,4)})\n",
    "\n",
    "g = sns.FacetGrid(\n",
    "    data=df_rename,\n",
    "    col='variable' if other_test else r'kernel $\\rho_X$',\n",
    "    row='n_quant' if other_test else r'kernel $\\rho_Y$',\n",
    "    height=3,aspect=2\n",
    ")\n",
    "g = g.map_dataframe(ecdfplot)\n",
    "#g = g.map(sns.ecdfplot,'value')\n",
    "g.add_legend(adjust_subtitles=False, **{'frameon':False})\n",
    "\n",
    "g.set_axis_labels(r'$p$-value',r'emperical CDF')\n",
    "for ax in g.axes.flatten():\n",
    "    ax.plot([0,1],[0,0],'k--',linewidth=1)\n",
    "#plt.savefig('ECDFH0.pdf')\n",
    "#plt.savefig('test1_vs_test2.pdf')\n",
    "plt.show()"
   ]
  },
  {
   "cell_type": "code",
   "execution_count": null,
   "metadata": {},
   "outputs": [],
   "source": [
    "df = df_pvals.groupby(['n_sample','alt_param','beta1','kernel_X','kernel_Y','variable'],as_index=False).aggregate(lambda x: np.mean(x<0.05))"
   ]
  },
  {
   "cell_type": "code",
   "execution_count": null,
   "metadata": {},
   "outputs": [],
   "source": [
    "df_rename = df.rename(columns={\n",
    "    'n_sample':r'sample size $n$',\n",
    "    'alt_param':r'$\\rho_0^2$',\n",
    "    'beta1':r'$\\beta$',\n",
    "    'kernel_X':r'kernel $\\delta$',\n",
    "    'value':r'rejection rate'\n",
    "})"
   ]
  },
  {
   "cell_type": "code",
   "execution_count": null,
   "metadata": {},
   "outputs": [],
   "source": [
    "sns.set_theme(style='whitegrid',palette='pastel',rc={'figure.figsize':(6,6)})\n",
    "g = sns.FacetGrid(df_rename, col=r'$\\rho_0^2$',col_wrap=2,margin_titles=True,aspect=1.5)\n",
    "g.map(\n",
    "    sns.scatterplot,r'sample size $n$',r'rejection rate','variable',#,r'$\\beta$',r'kernel $\\delta$',\n",
    "    palette='pastel'\n",
    ")\n",
    "lp = g.map(\n",
    "    sns.lineplot,r'sample size $n$',r'rejection rate','variable',ci='sd',palette='muted'\n",
    ")\n",
    "\n",
    "g.set_axis_labels(r'sample size $n$', r'rejection rate $(\\alpha = 5\\%)$')\n",
    "h,_ =lp.axes[0].get_legend_handles_labels()\n",
    "g.add_legend(handles=h[-2:],labels=[r'Hazard ratio', r'Debiased'],ncol=2)\n",
    "\n",
    "g.refline(y=0.05, linewidth=1, linestyle=':',color='k', clip_on=False)\n",
    "g.set_titles(size='x-small')\n",
    "g.fig.subplots_adjust(bottom=0.2)\n",
    "leg = g._legend\n",
    "leg.set_bbox_to_anchor([0.52,0.06])\n",
    "\n",
    "#g.tight_layout()\n",
    "for ax in g.axes.flat:\n",
    "    ax.set_xticks([100,500,1000,2000])\n",
    "    ax.set_xticklabels([100,500,1000,2000])\n",
    "\n",
    "#plt.savefig('rejectionrates.pdf')\n",
    "plt.show()"
   ]
  },
  {
   "cell_type": "markdown",
   "metadata": {},
   "source": [
    "### DML Example"
   ]
  },
  {
   "cell_type": "code",
   "execution_count": null,
   "metadata": {},
   "outputs": [],
   "source": [
    "if 1:\n",
    "    with open('/Users/bwq666/Documents/GitHub/nonparametric-cli-test/sim_data/dml_example.pkl','rb') as f:\n",
    "        sim_data = pickle.load(f)"
   ]
  },
  {
   "cell_type": "code",
   "execution_count": null,
   "metadata": {},
   "outputs": [],
   "source": [
    "data = pd.melt(\n",
    "    sim_data,value_vars=['gam_plug','gam_corrected','gam_double'],\n",
    ")\n",
    "data['endpoints'] = data['value'].apply(lambda x: x[-1])"
   ]
  },
  {
   "cell_type": "code",
   "execution_count": null,
   "metadata": {},
   "outputs": [],
   "source": [
    "longform = data.apply(lambda x: pd.Series(x['value']),axis=1).stack().reset_index(level=1, drop=True)\n",
    "longform.name = 'values'\n",
    "df = data.drop('value', axis=1).join(longform)\n",
    "df['sampleidx'] = df.index\n",
    "df = df.reset_index()\n",
    "df['time'] = np.tile(np.linspace(0,1,128),3*len(sim_data))"
   ]
  },
  {
   "cell_type": "code",
   "execution_count": null,
   "metadata": {},
   "outputs": [],
   "source": [
    "sns.set_theme(style='whitegrid',palette='pastel')\n",
    "g = sns.JointGrid('time', 'values', data=df, ratio=4)\n",
    "g.ax_marg_x.remove()\n",
    "g.fig.set_figwidth(6)\n",
    "g.fig.set_figheight(4)\n",
    "\n",
    "sns.lineplot(\n",
    "    data=df[df['sampleidx']%10 == 1],x='time',y='values',hue='variable',size='sampleidx',ax=g.ax_joint,\n",
    "    palette='pastel',estimator=None, \n",
    "    sizes=(1,1),**{'alpha':0.3}\n",
    ")\n",
    "\n",
    "sns.lineplot(\n",
    "    data=df,x='time',y='values',hue='variable',ax=g.ax_joint,ci=None,\n",
    "    sizes=[2],palette='muted',lw=2\n",
    ")\n",
    "h,_ = g.ax_joint.get_legend_handles_labels()\n",
    "g.ax_joint.legend(\n",
    "    h[-3:],['plug-in','orthogonal','debiased'], \n",
    "    loc=3,title='Estimators', prop={'size': 10})\n",
    "\n",
    "# sns.scatterplot(\n",
    "#     data=df[df['sampleidx']%3 != 0],x='time',y='values',hue='variable',ax=g.ax_joint,palette='pastel',s=1.5\n",
    "# )\n",
    "g.ax_joint.set_ylim((-0.2,0.1))\n",
    "g.ax_joint.set_xlabel(r'time $t$')\n",
    "g.ax_joint.set_ylabel(r'estimates of $\\gamma_t$ under $H_0$')\n",
    "\n",
    "#g = g.refline(y=0, linewidth=1, linestyle=':',color='k', clip_on=False)\n",
    "\n",
    "colors = sns.color_palette('muted')\n",
    "for i,c in enumerate(data['variable'].unique()):\n",
    "    sns.histplot(y=data['endpoints'][data['variable']==c], bins=50, stat='density', ax=g.ax_marg_y, color=colors[i],\n",
    "        kde=True,kde_kws={'cut':5}\n",
    "    )\n",
    "    g.ax_marg_y.axhline(np.mean(data['endpoints'][data['variable']==c]),linestyle='dashed',color=colors[i])\n",
    "\n",
    "g.figure.tight_layout()\n",
    "#plt.savefig('continuous_example.pdf',bbox_inches='tight', pad_inches=0)\n",
    "plt.show()"
   ]
  },
  {
   "cell_type": "code",
   "execution_count": null,
   "metadata": {},
   "outputs": [],
   "source": [
    "df_sigmas = pd.melt(\n",
    "    sim_data,value_vars=['sigma','sigma_double']\n",
    ")"
   ]
  },
  {
   "cell_type": "code",
   "execution_count": null,
   "metadata": {},
   "outputs": [],
   "source": [
    "longform = df_sigmas.apply(lambda x: pd.Series(x['value']),axis=1).stack().reset_index(level=1, drop=True)\n",
    "longform.name = 'values'\n",
    "df = df_sigmas.drop('value', axis=1).join(longform)\n",
    "df['sampleidx'] = df.index\n",
    "df = df.reset_index()\n",
    "df['time'] = np.tile(np.linspace(0,1,128),2*len(sim_data))"
   ]
  },
  {
   "cell_type": "code",
   "execution_count": null,
   "metadata": {},
   "outputs": [],
   "source": [
    "sns.set_theme(style='whitegrid',palette='pastel')\n",
    "g = sns.JointGrid('time', 'values', data=df, ratio=4)\n",
    "g.ax_marg_x.remove()\n",
    "g.fig.set_figwidth(6)\n",
    "g.fig.set_figheight(4)\n",
    "\n",
    "sns.lineplot(\n",
    "    data=df[df['sampleidx']%10 == 1],x='time',y='values',hue='variable',size='sampleidx',ax=g.ax_joint,\n",
    "    palette='pastel',estimator=None, \n",
    "    sizes=(1,1),**{'alpha':0.3},legend=False\n",
    ")\n",
    "\n",
    "sns.lineplot(\n",
    "    data=df,x='time',y='values',hue='variable',ax=g.ax_joint,ci=None,\n",
    "    sizes=[2],palette='muted',lw=2\n",
    ")\n",
    "\n",
    "plt.ylim((0,0.5));\n"
   ]
  },
  {
   "cell_type": "code",
   "execution_count": null,
   "metadata": {},
   "outputs": [],
   "source": [
    "relabel = {\n",
    "    'gam_plug':r'$\\hat{\\gamma}_{\\text{plug-in}}$',\n",
    "    'gam_corrected':r'$\\hat{\\gamma}_{\\text{double}}$ w/o sample split',\n",
    "    'gam_double':r'$\\hat{\\gamma}_{\\text{double}}$ w/ sample split'\n",
    "}\n",
    "data['Estimator'] = data['variable'].apply(lambda x: relabel[x])"
   ]
  },
  {
   "cell_type": "code",
   "execution_count": null,
   "metadata": {},
   "outputs": [],
   "source": [
    "sns.set(style='whitegrid',rc={'figure.figsize':(6,2.8)},palette='deep')\n",
    "ax = sns.histplot(data,x='endpoints',hue='Estimator',bins=100,stat='density',kde=True,legend=True,kde_kws={'cut':0.5});\n",
    "plt.ylabel(None)\n",
    "plt.xlabel(r'Estimates of $\\gamma$ under $H_0$')\n",
    "sns.move_legend(ax,'lower center', title=None, bbox_to_anchor=(0.2,0.57),frameon=True)\n",
    "\n",
    "for i,c in enumerate(data['variable'].unique()):\n",
    "    ax.axvline(np.mean(data['endpoints'][data['variable']==c]),linestyle='dashed',color=colors[i])\n",
    "plt.tight_layout()\n",
    "plt.savefig('endpoints_example.pdf')\n",
    "plt.show()"
   ]
  }
 ],
 "metadata": {
  "interpreter": {
   "hash": "99698fcc3e64b3f96d74709de16699196d6781fa2f0f434d3d0ae8cf7280fff7"
  },
  "kernelspec": {
   "display_name": "Python 3.8.12 64-bit ('boxhed2.0': conda)",
   "language": "python",
   "name": "python3"
  },
  "language_info": {
   "codemirror_mode": {
    "name": "ipython",
    "version": 3
   },
   "file_extension": ".py",
   "mimetype": "text/x-python",
   "name": "python",
   "nbconvert_exporter": "python",
   "pygments_lexer": "ipython3",
   "version": "3.8.12"
  },
  "orig_nbformat": 4
 },
 "nbformat": 4,
 "nbformat_minor": 2
}
