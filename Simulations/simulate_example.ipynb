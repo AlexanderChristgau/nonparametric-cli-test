{
 "cells": [
  {
   "cell_type": "code",
   "execution_count": 1,
   "metadata": {},
   "outputs": [],
   "source": [
    "%load_ext autoreload\n",
    "%autoreload 2\n",
    "\n",
    "import numpy as np\n",
    "import pandas as pd\n",
    "from itertools import product\n",
    "from simulation_utils import *\n",
    "from test_utils import *\n",
    "\n",
    "from os import chdir\n",
    "\n",
    "from tqdm.auto import tqdm\n",
    "import pickle"
   ]
  },
  {
   "cell_type": "code",
   "execution_count": 2,
   "metadata": {},
   "outputs": [],
   "source": [
    "def simulate(n_reps = 3, n_sample=500, n_quant = 128,\n",
    "                kernel_X = 'constant',sig_X=5,\n",
    "                kernel_Y = 'constant',sig_Y=5,\n",
    "                sig_Z=5,beta1=1,\n",
    "                box_params = {'max_depth':1,'n_estimators':200,'eta':0.1},\n",
    "                L2_pen=1,n_splits=5,\n",
    "                dependency = 0):\n",
    "\n",
    "    (gam_plug,gam_corrected,gam_double,\n",
    "        T_plug,T_corrected,T_double,\n",
    "        sig_list,sigd_list) = ([] for _ in range(8))\n",
    "\n",
    "    data_sampler = cox_sampler(sig_X,sig_Y,sig_Z,dependency,beta1,kernel_X,kernel_Y,n_quant)\n",
    "    data_sampler.scale_and_set_baseline()\n",
    "\n",
    "    for _ in tqdm(range(n_reps), leave=False):\n",
    "        X,Y,Z,tau = data_sampler.sample_all(n_sample)\n",
    "\n",
    "        g_p, g_c, sig, best_params = compute_gamma(tau,Z,X,box_params,n_quant,L2_pen=L2_pen,cross_validate=True)\n",
    "        g_d, sig_d = compute_gamma_double(tau,Z,X,best_params, n_quant, n_splits=n_splits,L2_pen=L2_pen)\n",
    "\n",
    "        gam_plug.append(g_p)\n",
    "        gam_corrected.append(g_c)\n",
    "        gam_double.append(g_d)\n",
    "        T_plug.append(np.linalg.norm(g_p,ord=np.inf))\n",
    "        T_corrected.append(np.linalg.norm(g_c,ord=np.inf))\n",
    "        T_double.append(np.linalg.norm(g_d,ord=np.inf))\n",
    "        sig_list.append(sig)\n",
    "        sigd_list.append(sig_d)\n",
    "    \n",
    "    df = pd.DataFrame({\n",
    "        \"gam_plug\":gam_plug,\n",
    "        \"gam_corrected\":gam_corrected,\n",
    "        \"gam_double\":gam_double,\n",
    "        \"T_plug\":T_plug,\n",
    "        \"T_corrected\":T_corrected,\n",
    "        \"T_double\":T_double,\n",
    "        \"sigma\":sig_list,\n",
    "        \"sigma_double\":sigd_list,\n",
    "        \"n_sample\": n_sample*np.ones(n_reps),\n",
    "        \"beta1\": beta1*np.ones(n_reps),\n",
    "        \"kernel_X\": [kernel_X]*n_reps,\n",
    "        \"kernel_Y\": [kernel_Y]*n_reps,\n",
    "        \"alt_param\": [dependency]*n_reps\n",
    "    })\n",
    "    return df"
   ]
  },
  {
   "cell_type": "code",
   "execution_count": 3,
   "metadata": {},
   "outputs": [
    {
     "name": "stderr",
     "output_type": "stream",
     "text": []
    }
   ],
   "source": [
    "sim_data = simulate(\n",
    "    n_reps = 20, n_sample=4000, n_quant=128,\n",
    "    sig_X=1, kernel_X='constant',\n",
    "    sig_Y=1, kernel_Y='constant',\n",
    "    sig_Z=1,\n",
    "    beta1=-1,\n",
    "    L2_pen=0.0001,n_splits=5,\n",
    "    dependency=0\n",
    ")"
   ]
  },
  {
   "cell_type": "code",
   "execution_count": 5,
   "metadata": {},
   "outputs": [],
   "source": [
    "path = '/Users/bwq666/Documents/GitHub/nonparametric-cli-test/sim_data/'\n",
    "if 0:\n",
    "    with open(path+'example_n4000.pkl', 'wb') as f:\n",
    "        pickle.dump(sim_data, f)"
   ]
  },
  {
   "cell_type": "code",
   "execution_count": 6,
   "metadata": {},
   "outputs": [],
   "source": [
    "L = []\n",
    "L.append(1 if 1 else 0)"
   ]
  },
  {
   "cell_type": "code",
   "execution_count": 7,
   "metadata": {},
   "outputs": [
    {
     "data": {
      "text/plain": [
       "[1]"
      ]
     },
     "execution_count": 7,
     "metadata": {},
     "output_type": "execute_result"
    }
   ],
   "source": [
    "L"
   ]
  },
  {
   "cell_type": "code",
   "execution_count": 2,
   "metadata": {},
   "outputs": [
    {
     "data": {
      "text/plain": [
       "'/Users/bwq666/Documents/GitHub/nonparametric-cli-test/BoXHED2.0/boxhed.py'"
      ]
     },
     "execution_count": 2,
     "metadata": {},
     "output_type": "execute_result"
    }
   ],
   "source": [
    "boxhed.__file__"
   ]
  },
  {
   "cell_type": "code",
   "execution_count": null,
   "metadata": {},
   "outputs": [],
   "source": []
  },
  {
   "cell_type": "code",
   "execution_count": 4,
   "metadata": {},
   "outputs": [],
   "source": [
    "import importlib.util\n",
    "import sys\n",
    "file_path = boxhed.__file__\n",
    "module_name = boxhed.__name__\n",
    "\n",
    "spec = importlib.util.spec_from_file_location(module_name, file_path)\n",
    "module = importlib.util.module_from_spec(spec)\n",
    "sys.modules[module_name] = module\n",
    "spec.loader.exec_module(module)"
   ]
  },
  {
   "cell_type": "code",
   "execution_count": 7,
   "metadata": {},
   "outputs": [
    {
     "data": {
      "text/plain": [
       "<module 'boxhed' from '/Users/bwq666/Documents/GitHub/nonparametric-cli-test/BoXHED2.0/boxhed.py'>"
      ]
     },
     "execution_count": 7,
     "metadata": {},
     "output_type": "execute_result"
    }
   ],
   "source": [
    "sys.modules[module_name]"
   ]
  },
  {
   "cell_type": "code",
   "execution_count": null,
   "metadata": {},
   "outputs": [],
   "source": []
  }
 ],
 "metadata": {
  "interpreter": {
   "hash": "288cafe6f3e04d182ec212787c3f3e6b1deebce9441493cb15a5f564aa5eb0d0"
  },
  "kernelspec": {
   "display_name": "Python 3",
   "language": "python",
   "name": "python3"
  },
  "language_info": {
   "codemirror_mode": {
    "name": "ipython",
    "version": 3
   },
   "file_extension": ".py",
   "mimetype": "text/x-python",
   "name": "python",
   "nbconvert_exporter": "python",
   "pygments_lexer": "ipython3",
   "version": "3.8.12"
  }
 },
 "nbformat": 4,
 "nbformat_minor": 2
}
