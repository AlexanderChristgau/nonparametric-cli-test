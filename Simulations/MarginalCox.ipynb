{
 "cells": [
  {
   "cell_type": "code",
   "execution_count": 9,
   "metadata": {},
   "outputs": [
    {
     "name": "stdout",
     "output_type": "stream",
     "text": [
      "The autoreload extension is already loaded. To reload it, use:\n",
      "  %reload_ext autoreload\n"
     ]
    }
   ],
   "source": [
    "%load_ext autoreload\n",
    "%autoreload 2\n",
    "\n",
    "import numpy as np\n",
    "import pandas as pd\n",
    "from itertools import product\n",
    "from simulation_utils import *\n",
    "from test_utils import *\n",
    "\n",
    "from os import chdir\n",
    "\n",
    "from tqdm.auto import tqdm\n",
    "import pickle\n",
    "\n",
    "import matplotlib.pyplot as plt\n",
    "import seaborn as sns"
   ]
  },
  {
   "cell_type": "code",
   "execution_count": 10,
   "metadata": {},
   "outputs": [],
   "source": [
    "def simulate(n_reps = 3, n_sample=500, n_quant = 128,\n",
    "                kernel_X = 'constant',sig_X=5,\n",
    "                kernel_Y = 'constant',sig_Y=5,\n",
    "                sig_Z=5,beta1=1,\n",
    "                box_params = {'max_depth':1,'n_estimators':200,'eta':0.1},\n",
    "                L2_pen=1,n_splits=5,\n",
    "                dependency = 0):\n",
    "\n",
    "    (T_plug,T_corrected,T_double,sig_list,sigd_list,p_cox) = ([] for _ in range(6))\n",
    "\n",
    "    data_sampler = cox_sampler(sig_X,sig_Y,sig_Z,dependency,beta1,kernel_X,kernel_Y,n_quant)\n",
    "    data_sampler.scale_and_set_baseline()\n",
    "\n",
    "    for _ in tqdm(range(n_reps), leave=False):\n",
    "        X,Y,Z,tau = data_sampler.sample_all(n_sample)\n",
    "\n",
    "        g_p, g_c, sig, best_params = compute_gamma(tau,Z,X,box_params,n_quant,L2_pen=L2_pen,cross_validate=True)\n",
    "        g_d, sig_d = compute_gamma_double(tau,Z,X,best_params, n_quant, n_splits=n_splits,L2_pen=L2_pen)\n",
    "\n",
    "\n",
    "        T_plug.append(np.linalg.norm(g_p,ord=np.inf))\n",
    "        T_corrected.append(np.linalg.norm(g_c,ord=np.inf))\n",
    "        T_double.append(np.linalg.norm(g_d,ord=np.inf))\n",
    "        sig_list.append(sig[-1])\n",
    "        sigd_list.append(sig_d[-1])\n",
    "        p_cox.append(cox_test(X,Z,tau))\n",
    "    \n",
    "    df = pd.DataFrame({\n",
    "        \"T_plug\":T_plug,\n",
    "        \"T_corrected\":T_corrected,\n",
    "        \"T_double\":T_double,\n",
    "        \"sigma\":sig_list,\n",
    "        \"sigma_double\":sigd_list,\n",
    "        \"p_cox\":p_cox,\n",
    "        \"n_sample\": n_sample*np.ones(n_reps),\n",
    "        \"beta1\": beta1*np.ones(n_reps),\n",
    "        \"kernel_X\": [kernel_X]*n_reps,\n",
    "        \"kernel_Y\": [kernel_Y]*n_reps,\n",
    "        \"alt_param\": [dependency]*n_reps\n",
    "    })\n",
    "    return df"
   ]
  },
  {
   "cell_type": "code",
   "execution_count": 11,
   "metadata": {},
   "outputs": [
    {
     "name": "stderr",
     "output_type": "stream",
     "text": []
    }
   ],
   "source": [
    "sim_data = simulate(\n",
    "    n_reps = 10, n_sample=500, n_quant=128,\n",
    "    sig_X=1, kernel_X='constant',\n",
    "    sig_Y=1, kernel_Y='constant',\n",
    "    sig_Z=1,\n",
    "    beta1=1,\n",
    "    box_params = {'max_depth':2,'n_estimators':200,'eta':0.1},\n",
    "    L2_pen=0.0001,n_splits=5,\n",
    "    dependency=0\n",
    ")"
   ]
  },
  {
   "cell_type": "code",
   "execution_count": 14,
   "metadata": {},
   "outputs": [
    {
     "name": "stderr",
     "output_type": "stream",
     "text": [
      "100%|██████████| 54/54 [04:57<00:00,  5.50s/it]\n"
     ]
    }
   ],
   "source": [
    "simulation_data = []\n",
    "\n",
    "## Simulation settings\n",
    "kernel_list = ['constant','gaussian','sine']\n",
    "beta_list = [-1,1]\n",
    "sample_sizes = [100,500,1000]\n",
    "dependency_param = [0,5,10]\n",
    "n_sim = len(kernel_list) * len(beta_list) * len(sample_sizes) * len(dependency_param)\n",
    "param_grid = product(kernel_list,beta_list,sample_sizes,dependency_param)\n",
    "\n",
    "for kernel,beta_1,sample_size,dependency in tqdm(param_grid, position = 0, leave=True, total=n_sim):\n",
    "    sim_data = simulate(\n",
    "        n_reps = 3, n_sample=sample_size,\n",
    "        sig_X=1, kernel_X=kernel,\n",
    "        sig_Y=1, kernel_Y=kernel,\n",
    "        sig_Z=1,\n",
    "        beta1=beta_1,\n",
    "        box_params = {'max_depth':2,'n_estimators':200,'eta':0.1},\n",
    "        L2_pen=0.001,n_splits=5,\n",
    "        dependency=dependency\n",
    "    )\n",
    "    simulation_data.append(sim_data)\n",
    "full_data = pd.concat(simulation_data)"
   ]
  },
  {
   "cell_type": "code",
   "execution_count": 16,
   "metadata": {},
   "outputs": [],
   "source": [
    "filename = '/Users/bwq666/Documents/GitHub/nonparametric-cli-test/sim_data/DMLvsCox.pkl'\n",
    "if 1:\n",
    "    with open(filename, 'wb') as f:\n",
    "        pickle.dump(full_data, f)"
   ]
  },
  {
   "cell_type": "code",
   "execution_count": null,
   "metadata": {},
   "outputs": [],
   "source": []
  }
 ],
 "metadata": {
  "interpreter": {
   "hash": "99698fcc3e64b3f96d74709de16699196d6781fa2f0f434d3d0ae8cf7280fff7"
  },
  "kernelspec": {
   "display_name": "Python 3.8.12 64-bit ('boxhed2.0': conda)",
   "language": "python",
   "name": "python3"
  },
  "language_info": {
   "codemirror_mode": {
    "name": "ipython",
    "version": 3
   },
   "file_extension": ".py",
   "mimetype": "text/x-python",
   "name": "python",
   "nbconvert_exporter": "python",
   "pygments_lexer": "ipython3",
   "version": "3.8.12"
  },
  "orig_nbformat": 4
 },
 "nbformat": 4,
 "nbformat_minor": 2
}
